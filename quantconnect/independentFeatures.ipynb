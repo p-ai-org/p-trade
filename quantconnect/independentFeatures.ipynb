{
 "cells": [
  {
   "cell_type": "markdown",
   "metadata": {},
   "source": [
    "![QuantConnect Logo](https://cdn.quantconnect.com/web/i/icon.png)\n",
    "<hr>"
   ]
  },
  {
   "cell_type": "code",
   "execution_count": 1,
   "metadata": {},
   "outputs": [],
   "source": [
    "#initializes number of days, number of equities, and equity list\n",
    "#equity list taken from bql.xls data\n",
    "numDays = 360\n",
    "numEquities = 30\n",
    "equities = ['AXP', 'VZ', 'AVGO', 'BA', 'CAT', 'JPM', 'CVX', 'KO', 'ABBV', 'DIS', 'FLT', 'EXR', 'XOM', 'PSX', 'GE', 'HPQ', 'HD', 'IBM', 'CXO', 'JNJ', 'MCD', 'MRK', 'MMM', 'AWK', 'BAC', 'BKR', 'PFE', 'PG', 'T', 'TRV', 'UTX', 'ADI', 'WMT', 'CSCO', 'INTC', 'GM', 'MSFT', 'DG', 'CI', 'KMI', 'C', 'AIG', 'HON', 'MO', 'HCA', 'UAA', 'IP', 'HPE', 'ABT', 'AFL', 'APD', 'RCL', 'AEP', 'HES', 'AON', 'APA', 'ADM', 'ADP', 'VRSK', 'AZO', 'AVY', 'MSCI', 'BLL', 'BK', 'BAX', 'BDX', 'BRK/B', 'BBY', 'HRB', 'BSX', 'BMY', 'FBHS', 'BF/B', 'COG', 'CPB', 'KSU', 'HLT', 'CCL', 'QRVO', 'CTL', 'UDR', 'CLX', 'CMS', 'NWL', 'CL', 'CMA', 'IPGP', 'CAG', 'ED', 'SLG', 'GLW', 'CMI', 'DHR', 'TGT', 'DE', 'D', 'DOV', 'LNT', 'DUK', 'REG', 'ETN', 'ECL', 'PKI', 'EMR', 'EOG', 'ETR', 'EFX', 'IQV', 'IT', 'FDX', 'M', 'FMC', 'F', 'NEE', 'BEN', 'FCX', 'GPS', 'GD', 'GIS', 'GPC', 'ATO', 'GWW', 'HAL', 'HOG', 'LHX', 'PEAK', 'HP', 'FTV', 'HSY', 'SYF', 'HRL', 'AJG', 'MDLZ', 'CNP', 'HUM', 'WLTW', 'ITW', 'CDW', 'IR', 'IPG', 'IFF', 'JEC', 'HBI', 'K', 'BR', 'PRGO', 'KMB', 'KIM', 'KSS', 'ORCL', 'KR', 'LEG', 'LEN', 'LLY', 'LB', 'CHTR', 'LNC', 'L', 'LOW', 'HST', 'XRX', 'IEX', 'MMC', 'MAS', 'SPGI', 'MDT', 'CVS', 'DD', 'MU', 'MSI', 'CBOE', 'MYL', 'LH', 'NEM', 'NKE', 'NI', 'NBL', 'NSC', 'PFG', 'ES', 'NOC', 'WFC', 'NUE', 'PVH', 'OXY', 'OMC', 'OKE', 'RJF', 'PH', 'ROL', 'PPL', 'COP', 'PHM', 'PNW', 'PNC', 'PPG', 'PGR', 'PEG', 'RTN', 'RHI', 'EIX', 'SLB', 'SCHW', 'SHW', 'SJM', 'SNA', 'AME', 'SO', 'BBT', 'LUV', 'SWK', 'PSA', 'ANET', 'STI', 'SYY', 'CTVA', 'TXN', 'TXT', 'TMO', 'TIF', 'TJX', 'GL', 'JCI', 'ULTA', 'UNP', 'KEYS', 'UNH', 'UNM', 'MRO', 'VAR', 'VTR', 'VFC', 'VNO', 'VMC', 'WY', 'WHR', 'WMB', 'WEC', 'ADBE', 'AES', 'AMGN', 'AAPL', 'ADSK', 'CTAS', 'CMCSA', 'TAP', 'KLAC', 'MAR', 'MKC', 'JWN', 'PCAR', 'COST', 'FRC', 'SYK', 'TSN', 'LW', 'AMAT', 'AAL', 'CAH', 'CERN', 'CINF', 'DHI', 'FLS', 'EA', 'EXPD', 'FAST', 'MTB', 'XEL', 'FISV', 'FITB', 'GILD', 'HAS', 'HBAN', 'WELL', 'BIIB', 'NTRS', 'PKG', 'PAYX', 'PBCT', 'QCOM', 'ROP', 'ROST', 'IDXX', 'SBUX', 'KEY', 'FOXA', 'FOX', 'STT', 'NCLH', 'USB', 'AOS', 'NLOK', 'TROW', 'WM', 'CBS', 'AGN', 'STZ', 'XLNX', 'XRAY', 'ZION', 'ALK', 'IVZ', 'LIN', 'INTU', 'MS', 'MCHP', 'CB', 'HOLX', 'CFG', 'ORLY', 'ALL', 'FLIR', 'EQR', 'BWA', 'INCY', 'SPG', 'EMN', 'TWTR', 'AVB', 'PRU', 'UPS', 'AIV', 'WBA', 'MCK', 'LMT', 'ABC', 'COF', 'WAT', 'DLTR', 'DRI', 'NVR', 'NTAP', 'CTXS', 'DXC', 'DVA', 'HIG', 'IRM', 'EL', 'CDNS', 'UHS', 'ETFC', 'SWKS', 'NOV', 'DGX', 'ATVI', 'ROK', 'KHC', 'AMT', 'HFC', 'REGN', 'AMZN', 'JKHY', 'RL', 'BXP', 'APH', 'ARNC', 'PXD', 'VLO', 'SNPS', 'WU', 'CHRW', 'ACN', 'TDG', 'YUM', 'PLD', 'FE', 'VRSN', 'PWR', 'HSIC', 'AEE', 'ANSS', 'NVDA', 'SEE', 'CTSH', 'SIVB', 'ISRG', 'AMG', 'TTWO', 'RSG', 'EBAY', 'GS', 'SBAC', 'SRE', 'MCO', 'BKNG', 'FFIV', 'AKAM', 'MKTX', 'DVN', 'GOOGL', 'TFX', 'ALLE', 'NFLX', 'A', 'ANTM', 'CME', 'JNPR', 'BLK', 'DTE', 'CE', 'NDAQ', 'PM', 'CRM', 'HII', 'MET', 'UA', 'TPR', 'CSX', 'EW', 'AMP', 'FTI', 'ZBH', 'CBRE', 'MA', 'KMX', 'ICE', 'FIS', 'CMG', 'WYNN', 'AIZ', 'NRG', 'MNST', 'RF', 'MOS', 'EXPE', 'EVRG', 'DISCA', 'CF', 'VIAB', 'LDOS', 'GOOG', 'TEL', 'COO', 'DFS', 'TRIP', 'V', 'MAA', 'XYL', 'MPC', 'AMD', 'TSCO', 'RMD', 'MTD', 'CPRT', 'FTNT', 'ALB', 'ESS', 'O', 'STX', 'WRK', 'INFO', 'WAB', 'WDC', 'PEP', 'FANG', 'MXIM', 'NOW', 'CHD', 'DRE', 'FRT', 'MGM', 'JBHT', 'LRCX', 'MHK', 'PNR', 'VRTX', 'AMCR', 'FB', 'TMUS', 'URI', 'ARE', 'ABMD', 'DAL', 'UAL', 'NWS', 'CNC', 'MAC', 'MLM', 'PYPL', 'COTY', 'DISH', 'ALXN', 'DOW', 'RE', 'WCG', 'NWSA', 'EXC', 'GPN', 'CCI', 'APTV', 'AAP', 'CPRI', 'ALGN', 'ILMN', 'ADS', 'LKQ', 'NLSN', 'GRMN', 'XEC', 'ZTS', 'DLR', 'EQIX', 'LVS', 'DISCK']"
   ]
  },
  {
   "cell_type": "code",
   "execution_count": 2,
   "metadata": {},
   "outputs": [],
   "source": [
    "#shortens equities as necessary; ensures that numEquities < number of equities available\n",
    "numEquities = min(numEquities, len(equities))\n",
    "equities = equities[0:numEquities]"
   ]
  },
  {
   "cell_type": "code",
   "execution_count": 3,
   "metadata": {},
   "outputs": [],
   "source": [
    "#add indicators for SPY to a Pandas Dataframe\n",
    "qb = QuantBook()\n",
    "#SPY\n",
    "spy = qb.AddEquity(\"SPY\", Resolution.Daily)\n",
    "history = qb.History(['SPY'], numDays - 8)\n",
    "bb = qb.Indicator(BollingerBands(20,2), spy.Symbol, numDays)\n",
    "sma = qb.Indicator(SimpleMovingAverage(30), spy.Symbol, numDays)\n",
    "ema = qb.Indicator(ExponentialMovingAverage(30), spy.Symbol, numDays)\n",
    "rsi = qb.Indicator(RelativeStrengthIndex(30), spy.Symbol, numDays)\n",
    "mom = qb.Indicator(Momentum(360), spy.Symbol, numDays)\n",
    "momp = qb.Indicator(MomentumPercent(360), spy.Symbol, numDays)\n",
    "maxi = qb.Indicator(Maximum(30), spy.Symbol, numDays)\n",
    "mini = qb.Indicator(Minimum(30), spy.Symbol, numDays)\n",
    "macd = qb.Indicator(MovingAverageConvergenceDivergence(12, 26, 9), spy.Symbol, numDays)\n",
    "\n",
    "indicators = pd.concat([bb, sma, ema, rsi, mom, momp, maxi, mini, macd], axis=1)\n",
    "history.reset_index(level = 0, drop = True, inplace = True)\n",
    "total_df = pd.concat([history, indicators], axis=1)\n",
    "\n",
    "#total_df.head()"
   ]
  },
  {
   "cell_type": "code",
   "execution_count": 4,
   "metadata": {},
   "outputs": [],
   "source": [
    "#repeats process for all equities\n",
    "for eq in equities:\n",
    "    \n",
    "    qc_eq = qb.AddEquity(eq, Resolution.Daily)\n",
    "    eq_history = qb.History([eq], 352)\n",
    "    bb = qb.Indicator(BollingerBands(20,2), qc_eq.Symbol, numDays)\n",
    "    sma = qb.Indicator(SimpleMovingAverage(30), qc_eq.Symbol, numDays)\n",
    "    ema = qb.Indicator(ExponentialMovingAverage(30), qc_eq.Symbol, numDays)\n",
    "    rsi = qb.Indicator(RelativeStrengthIndex(30), qc_eq.Symbol, numDays)\n",
    "    mom = qb.Indicator(Momentum(360), qc_eq.Symbol, numDays)\n",
    "    momp = qb.Indicator(MomentumPercent(360), qc_eq.Symbol, numDays)\n",
    "    maxi = qb.Indicator(Maximum(30), qc_eq.Symbol, numDays)\n",
    "    mini = qb.Indicator(Minimum(30), qc_eq.Symbol, numDays)\n",
    "    macd = qb.Indicator(MovingAverageConvergenceDivergence(12, 26, 9), qc_eq.Symbol, numDays)\n",
    "\n",
    "    eq_indicators = pd.concat([bb, sma, ema, rsi, mom, momp, maxi, mini, macd], axis=1)\n",
    "    eq_history.reset_index(level = 0, drop = True, inplace = True)\n",
    "    eq_df = pd.concat([eq_history, eq_indicators], axis=1)\n",
    "    total_df.reset_index(level = 0, drop = True, inplace = True)\n",
    "    total_df = pd.concat([total_df, eq_df])"
   ]
  },
  {
   "cell_type": "code",
   "execution_count": 5,
   "metadata": {},
   "outputs": [],
   "source": [
    "#get correlations between all potential features\n",
    "corr = total_df.corr()"
   ]
  },
  {
   "cell_type": "code",
   "execution_count": 6,
   "metadata": {},
   "outputs": [
    {
     "data": {
      "image/png": "[encoded data removed]",
      "text/plain": [
       "<Figure size 432x288 with 1 Axes>"
      ]
     },
     "metadata": {
      "needs_background": "light"
     },
     "output_type": "display_data"
    }
   ],
   "source": [
    "#heatmap for correlations\n",
    "plt.imshow(corr, cmap='hot', interpolation='nearest')\n",
    "plt.show() #to do: add labels"
   ]
  },
  {
   "cell_type": "code",
   "execution_count": 7,
   "metadata": {},
   "outputs": [],
   "source": [
    "l = []\n",
    "for i in corr:\n",
    "    l.append(i)"
   ]
  },
  {
   "cell_type": "code",
   "execution_count": 8,
   "metadata": {},
   "outputs": [],
   "source": [
    "price_corr = corr.loc['close', :]"
   ]
  },
  {
   "cell_type": "code",
   "execution_count": 14,
   "metadata": {},
   "outputs": [
    {
     "name": "stdout",
     "output_type": "stream",
     "text": [
      "['close', 'bollingerbands', 'lowerband', 'middleband', 'standarddeviation', 'upperband', 'rollingsum', 'simplemovingaverage', 'exponentialmovingaverage', 'averagegain', 'averageloss', 'momentum', 'maximum', 'minimum', 'fast', 'slow']\n"
     ]
    }
   ],
   "source": [
    "#filters out potential features that don't correlate with price\n",
    "potential_features = []\n",
    "for i in range(0, len(price_corr)):\n",
    "    if price_corr[i] > 0.5:\n",
    "        potential_features.append(l[i])\n",
    "\n",
    "#remove obviously correlated features\n",
    "#potential_features.remove('close')\n",
    "potential_features.remove('high')\n",
    "potential_features.remove('low')\n",
    "potential_features.remove('open')\n",
    "\n",
    "print(potential_features)"
   ]
  },
  {
   "cell_type": "code",
   "execution_count": 15,
   "metadata": {},
   "outputs": [],
   "source": [
    "#find highly correlated features\n",
    "correlated_features = set()\n",
    "\n",
    "for i in range(len(potential_features)):\n",
    "    for j in range(i):\n",
    "        if abs(corr.loc[potential_features[i], potential_features[j]]) > 0.9:\n",
    "            correlated_features.add(potential_features[j])"
   ]
  },
  {
   "cell_type": "code",
   "execution_count": 16,
   "metadata": {},
   "outputs": [
    {
     "name": "stdout",
     "output_type": "stream",
     "text": [
      "['standarddeviation', 'averagegain', 'averageloss', 'momentum', 'slow']\n"
     ]
    }
   ],
   "source": [
    "#remove highly correlated features.\n",
    "#resulting potential_features should be linearly independent.\n",
    "for i in correlated_features:\n",
    "    potential_features.remove(i)\n",
    "\n",
    "print(potential_features)\n",
    "#output: ['standarddeviation', 'averagegain', 'averageloss', 'momentum', 'slow']"
   ]
  },
  {
   "cell_type": "code",
   "execution_count": null,
   "metadata": {},
   "outputs": [],
   "source": []
  }
 ],
 "metadata": {
  "kernelspec": {
   "display_name": "Python 3",
   "language": "python",
   "name": "python3"
  },
  "language_info": {
   "codemirror_mode": {
    "name": "ipython",
    "version": 3
   },
   "file_extension": ".py",
   "mimetype": "text/x-python",
   "name": "python",
   "nbconvert_exporter": "python",
   "pygments_lexer": "ipython3",
   "version": "3.6.8"
  }
 },
 "nbformat": 4,
 "nbformat_minor": 2
}
